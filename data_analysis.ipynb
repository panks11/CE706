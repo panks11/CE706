{
 "cells": [
  {
   "cell_type": "markdown",
   "metadata": {},
   "source": [
    "The python notebook contains the code to understand the 'Signal Media One Million News Article' dataset for the assignment"
   ]
  },
  {
   "cell_type": "code",
   "execution_count": 2,
   "metadata": {},
   "outputs": [],
   "source": [
    "import pandas as pd"
   ]
  },
  {
   "cell_type": "code",
   "execution_count": 3,
   "metadata": {},
   "outputs": [],
   "source": [
    "# Due to memory containts the downloaded Json file is split into three smaller Json files using linux command :\n",
    "# 'cat sample-1M.jsonl  | split -C 1000000000 -d -a4 - output_prefix --filter='gzip > $FILE.gz'"
   ]
  },
  {
   "cell_type": "code",
   "execution_count": 4,
   "metadata": {},
   "outputs": [],
   "source": [
    "df = pd.read_json('data',lines=True)"
   ]
  },
  {
   "cell_type": "code",
   "execution_count": 15,
   "metadata": {},
   "outputs": [
    {
     "data": {
      "text/html": [
       "<div>\n",
       "<style scoped>\n",
       "    .dataframe tbody tr th:only-of-type {\n",
       "        vertical-align: middle;\n",
       "    }\n",
       "\n",
       "    .dataframe tbody tr th {\n",
       "        vertical-align: top;\n",
       "    }\n",
       "\n",
       "    .dataframe thead th {\n",
       "        text-align: right;\n",
       "    }\n",
       "</style>\n",
       "<table border=\"1\" class=\"dataframe\">\n",
       "  <thead>\n",
       "    <tr style=\"text-align: right;\">\n",
       "      <th></th>\n",
       "      <th>id</th>\n",
       "      <th>content</th>\n",
       "      <th>title</th>\n",
       "      <th>media-type</th>\n",
       "      <th>source</th>\n",
       "      <th>published</th>\n",
       "    </tr>\n",
       "  </thead>\n",
       "  <tbody>\n",
       "    <tr>\n",
       "      <th>342908</th>\n",
       "      <td>864a0952-aae8-4ee6-b3bb-9b11d010cf43</td>\n",
       "      <td>Queen Sandra RULES! however anyone may comment...</td>\n",
       "      <td>Queen Sandra...... owls/ any color/ spoked eye...</td>\n",
       "      <td>Blog</td>\n",
       "      <td>DeniseAnnette</td>\n",
       "      <td>2015-07-03 19:51:40</td>\n",
       "    </tr>\n",
       "    <tr>\n",
       "      <th>204511</th>\n",
       "      <td>fd824d39-9ffc-4b03-acb2-6944bc20cd5f</td>\n",
       "      <td>Happy 4th of July to all our friends and famil...</td>\n",
       "      <td>Happy 4th of July 2015!</td>\n",
       "      <td>Blog</td>\n",
       "      <td>Charlottesville Solutions</td>\n",
       "      <td>2015-07-04 11:41:21</td>\n",
       "    </tr>\n",
       "    <tr>\n",
       "      <th>204341</th>\n",
       "      <td>0867cb05-75fd-44b1-ada9-b775c5467d4d</td>\n",
       "      <td>(0 comments - 497 views) \\n#1 Video insane cam...</td>\n",
       "      <td>Weekly Achievements for 28Jun15 thru 04Jul15</td>\n",
       "      <td>Blog</td>\n",
       "      <td>Latest Blog Entries  at VideoSift.com</td>\n",
       "      <td>2015-07-05 07:01:03</td>\n",
       "    </tr>\n",
       "    <tr>\n",
       "      <th>355403</th>\n",
       "      <td>e520a3c3-e5dd-4c1e-877e-da9711f8c938</td>\n",
       "      <td>Nasi kandar in Penang Every now and then you h...</td>\n",
       "      <td>Nasi Kandar Penang: Insanely Good Curry at Taj...</td>\n",
       "      <td>Blog</td>\n",
       "      <td>Migrationology - Food Travel Blog</td>\n",
       "      <td>2015-07-05 13:00:32</td>\n",
       "    </tr>\n",
       "    <tr>\n",
       "      <th>126179</th>\n",
       "      <td>c7a71b47-eb09-43de-a222-81cf40a2190d</td>\n",
       "      <td>Nasi kandar in Penang Every now and then you h...</td>\n",
       "      <td>Nasi Kandar Penang: Insanely Good Curry at Taj...</td>\n",
       "      <td>Blog</td>\n",
       "      <td>Migrationology - Food Travel Blog</td>\n",
       "      <td>2015-07-05 13:00:32</td>\n",
       "    </tr>\n",
       "  </tbody>\n",
       "</table>\n",
       "</div>"
      ],
      "text/plain": [
       "                                          id  \\\n",
       "342908  864a0952-aae8-4ee6-b3bb-9b11d010cf43   \n",
       "204511  fd824d39-9ffc-4b03-acb2-6944bc20cd5f   \n",
       "204341  0867cb05-75fd-44b1-ada9-b775c5467d4d   \n",
       "355403  e520a3c3-e5dd-4c1e-877e-da9711f8c938   \n",
       "126179  c7a71b47-eb09-43de-a222-81cf40a2190d   \n",
       "\n",
       "                                                  content  \\\n",
       "342908  Queen Sandra RULES! however anyone may comment...   \n",
       "204511  Happy 4th of July to all our friends and famil...   \n",
       "204341  (0 comments - 497 views) \\n#1 Video insane cam...   \n",
       "355403  Nasi kandar in Penang Every now and then you h...   \n",
       "126179  Nasi kandar in Penang Every now and then you h...   \n",
       "\n",
       "                                                    title media-type  \\\n",
       "342908  Queen Sandra...... owls/ any color/ spoked eye...       Blog   \n",
       "204511                            Happy 4th of July 2015!       Blog   \n",
       "204341       Weekly Achievements for 28Jun15 thru 04Jul15       Blog   \n",
       "355403  Nasi Kandar Penang: Insanely Good Curry at Taj...       Blog   \n",
       "126179  Nasi Kandar Penang: Insanely Good Curry at Taj...       Blog   \n",
       "\n",
       "                                       source           published  \n",
       "342908                          DeniseAnnette 2015-07-03 19:51:40  \n",
       "204511              Charlottesville Solutions 2015-07-04 11:41:21  \n",
       "204341  Latest Blog Entries  at VideoSift.com 2015-07-05 07:01:03  \n",
       "355403      Migrationology - Food Travel Blog 2015-07-05 13:00:32  \n",
       "126179      Migrationology - Food Travel Blog 2015-07-05 13:00:32  "
      ]
     },
     "execution_count": 15,
     "metadata": {},
     "output_type": "execute_result"
    }
   ],
   "source": [
    "df[\"published\"] = df[\"published\"].astype('datetime64[ns]')\n",
    "df.sort_values(by='published', inplace=True)\n",
    "df.head()"
   ]
  },
  {
   "cell_type": "code",
   "execution_count": 6,
   "metadata": {},
   "outputs": [
    {
     "data": {
      "text/plain": [
       "News    267717\n",
       "Blog     96917\n",
       "Name: media-type, dtype: int64"
      ]
     },
     "execution_count": 6,
     "metadata": {},
     "output_type": "execute_result"
    }
   ],
   "source": [
    "# The media type is majorly 'News' and 'Blog'\n",
    "df['media-type'].value_counts()"
   ]
  },
  {
   "cell_type": "code",
   "execution_count": 7,
   "metadata": {},
   "outputs": [
    {
     "data": {
      "text/plain": [
       "MyInforms                            6927\n",
       "Individual.com                       2148\n",
       "4 Traders                            1594\n",
       "NewsR.in                             1493\n",
       "Mail Online UK                       1441\n",
       "                                     ... \n",
       "Transport World Africa                  1\n",
       "Michael Tsai                            1\n",
       "Engineering & Technology magazine       1\n",
       "Bike Commuters                          1\n",
       "Alan Gandy                              1\n",
       "Name: source, Length: 53801, dtype: int64"
      ]
     },
     "execution_count": 7,
     "metadata": {},
     "output_type": "execute_result"
    }
   ],
   "source": [
    "df['source'].value_counts()"
   ]
  },
  {
   "cell_type": "code",
   "execution_count": 17,
   "metadata": {},
   "outputs": [],
   "source": [
    "df = pd.read_json('data2',lines=True)"
   ]
  },
  {
   "cell_type": "code",
   "execution_count": 18,
   "metadata": {},
   "outputs": [
    {
     "data": {
      "text/plain": [
       "News    268090\n",
       "Blog     97098\n",
       "Name: media-type, dtype: int64"
      ]
     },
     "execution_count": 18,
     "metadata": {},
     "output_type": "execute_result"
    }
   ],
   "source": [
    "# The media type is majorly 'News' and 'Blog'\n",
    "df['media-type'].value_counts()"
   ]
  },
  {
   "cell_type": "code",
   "execution_count": 19,
   "metadata": {},
   "outputs": [
    {
     "data": {
      "text/plain": [
       "News    198681\n",
       "Blog     71497\n",
       "Name: media-type, dtype: int64"
      ]
     },
     "execution_count": 19,
     "metadata": {},
     "output_type": "execute_result"
    }
   ],
   "source": [
    "df = pd.read_json('data3',lines=True)\n",
    "df['media-type'].value_counts()"
   ]
  },
  {
   "cell_type": "code",
   "execution_count": null,
   "metadata": {},
   "outputs": [],
   "source": []
  }
 ],
 "metadata": {
  "kernelspec": {
   "display_name": "Python 3.8.10 64-bit",
   "language": "python",
   "name": "python3"
  },
  "language_info": {
   "codemirror_mode": {
    "name": "ipython",
    "version": 3
   },
   "file_extension": ".py",
   "mimetype": "text/x-python",
   "name": "python",
   "nbconvert_exporter": "python",
   "pygments_lexer": "ipython3",
   "version": "3.8.10"
  },
  "orig_nbformat": 4,
  "vscode": {
   "interpreter": {
    "hash": "31f2aee4e71d21fbe5cf8b01ff0e069b9275f58929596ceb00d14d90e3e16cd6"
   }
  }
 },
 "nbformat": 4,
 "nbformat_minor": 2
}
